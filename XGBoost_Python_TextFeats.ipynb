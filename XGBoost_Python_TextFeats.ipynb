{
 "cells": [
  {
   "cell_type": "markdown",
   "metadata": {},
   "source": [
    "### Introduction"
   ]
  },
  {
   "cell_type": "markdown",
   "metadata": {},
   "source": [
    "This notebook is created and shared to help people learn and understand the process of solving a problem which involves text variables. Apart from creating new variables, you'll learn to extract ~650 text (count) features and use them in training a xgboost model. This script scores ~0.70 on public leaderboard.\n",
    "For any questions, feel free to raise issues."
   ]
  },
  {
   "cell_type": "code",
   "execution_count": 5,
   "metadata": {
    "collapsed": false
   },
   "outputs": [],
   "source": [
    "# load libraries\n",
    "\n",
    "import pandas as pd\n",
    "import numpy as np\n",
    "import re\n",
    "import datetime\n",
    "from nltk.corpus import stopwords\n",
    "from sklearn.preprocessing import LabelEncoder\n",
    "from nltk.stem.snowball import SnowballStemmer\n",
    "from sklearn.feature_extraction.text import CountVectorizer\n",
    "import xgboost as xgb\n",
    "\n",
    "pd.set_option('display.max_colwidth',100)"
   ]
  },
  {
   "cell_type": "code",
   "execution_count": 6,
   "metadata": {
    "collapsed": false
   },
   "outputs": [],
   "source": [
    "#load data/home/dar/challenge/Machine_Learning/datafiles\n",
    "train = pd.read_csv('/home/dar/challenge/Machine_Learning/datafiles/train.csv')\n",
    "test = pd.read_csv('/home/dar/challenge/Machine_Learning/datafiles/test.csv')"
   ]
  },
  {
   "cell_type": "code",
   "execution_count": 7,
   "metadata": {
    "collapsed": false
   },
   "outputs": [],
   "source": [
    "# convert unix time format\n",
    "unix_cols = ['deadline','state_changed_at','launched_at','created_at']\n",
    "\n",
    "for x in unix_cols:\n",
    "#    print train[x]\n",
    "    train[x] = train[x].apply(lambda k: datetime.datetime.fromtimestamp(int(k)).strftime('%Y-%m-%d %H:%M:%S'))\n",
    "    test[x] = test[x].apply(lambda k: datetime.datetime.fromtimestamp(int(k)).strftime('%Y-%m-%d %H:%M:%S'))"
   ]
  },
  {
   "cell_type": "markdown",
   "metadata": {},
   "source": [
    "### Some features"
   ]
  },
  {
   "cell_type": "code",
   "execution_count": 8,
   "metadata": {
    "collapsed": true
   },
   "outputs": [],
   "source": [
    "train['name_count'] = train['name'].str.split().str.len()\n",
    "train['desc_count'] = train['desc'].str.split().str.len()\n",
    "\n",
    "test['name_count'] = test['name'].str.split().str.len()\n",
    "test['desc_count'] = test['desc'].str.split().str.len()"
   ]
  },
  {
   "cell_type": "code",
   "execution_count": 9,
   "metadata": {
    "collapsed": true
   },
   "outputs": [],
   "source": [
    "cols_to_use = ['name','desc']\n",
    "len_feats = ['name_len','desc_len']\n",
    "count_feats = ['name_count','desc_count']\n",
    "\n",
    "for i in np.arange(2):\n",
    "    train[len_feats[i]] = train[cols_to_use[i]].apply(str).apply(len)\n",
    "    test[len_feats[i]] = test[cols_to_use[i]].apply(str).apply(len)"
   ]
  },
  {
   "cell_type": "code",
   "execution_count": 10,
   "metadata": {
    "collapsed": true
   },
   "outputs": [],
   "source": [
    "train['keywords_len'] = train['keywords'].str.len()\n",
    "train['keywords_count'] = train['keywords'].str.split('-').str.len()\n",
    "\n",
    "test['keywords_len'] = test['keywords'].str.len()\n",
    "test['keywords_count'] = test['keywords'].str.split('-').str.len()"
   ]
  },
  {
   "cell_type": "markdown",
   "metadata": {},
   "source": [
    "### Some more features"
   ]
  },
  {
   "cell_type": "code",
   "execution_count": 11,
   "metadata": {
    "collapsed": false
   },
   "outputs": [],
   "source": [
    "# converting string variables to datetime\n",
    "unix_cols = ['deadline','state_changed_at','launched_at','created_at']\n",
    "\n",
    "for x in unix_cols:\n",
    "    train[x] = train[x].apply(lambda k: datetime.datetime.strptime(k, '%Y-%m-%d %H:%M:%S'))\n",
    "    test[x] = test[x].apply(lambda k: datetime.datetime.strptime(k, '%Y-%m-%d %H:%M:%S'))"
   ]
  },
  {
   "cell_type": "code",
   "execution_count": 12,
   "metadata": {
    "collapsed": true
   },
   "outputs": [],
   "source": [
    "# there should be simpler way - might take longer\n",
    "# creating list with time difference between 1) launched_at and created_at 2) deadline and launched_at\n",
    "\n",
    "time1 = []\n",
    "time3 = []\n",
    "for i in np.arange(train.shape[0]):\n",
    "    time1.append(np.round((train.loc[i, 'launched_at'] - train.loc[i, 'created_at']).total_seconds()).astype(int))\n",
    "    time3.append(np.round((train.loc[i, 'deadline'] - train.loc[i, 'launched_at']).total_seconds()).astype(int))"
   ]
  },
  {
   "cell_type": "code",
   "execution_count": 13,
   "metadata": {
    "collapsed": true
   },
   "outputs": [],
   "source": [
    "train['time1'] = np.log(time1)\n",
    "train['time3'] = np.log(time3)"
   ]
  },
  {
   "cell_type": "code",
   "execution_count": 14,
   "metadata": {
    "collapsed": true
   },
   "outputs": [],
   "source": [
    "# for test data\n",
    "time5 = []\n",
    "time6 = []\n",
    "for i in np.arange(test.shape[0]):\n",
    "    time5.append(np.round((test.loc[i, 'launched_at'] - test.loc[i, 'created_at']).total_seconds()).astype(int))\n",
    "    time6.append(np.round((test.loc[i, 'deadline'] - test.loc[i, 'launched_at']).total_seconds()).astype(int))"
   ]
  },
  {
   "cell_type": "code",
   "execution_count": 15,
   "metadata": {
    "collapsed": true
   },
   "outputs": [],
   "source": [
    "test['time1'] = np.log(time5)\n",
    "test['time3'] = np.log(time6)"
   ]
  },
  {
   "cell_type": "code",
   "execution_count": 16,
   "metadata": {
    "collapsed": true
   },
   "outputs": [],
   "source": [
    "feat = ['disable_communication','country']\n",
    "\n",
    "for x in feat:\n",
    "    le = LabelEncoder()\n",
    "    le.fit(list(train[x].values) + list(test[x].values))\n",
    "    train[x] = le.transform(list(train[x]))\n",
    "    test[x] = le.transform(list(test[x]))"
   ]
  },
  {
   "cell_type": "code",
   "execution_count": 17,
   "metadata": {
    "collapsed": true
   },
   "outputs": [],
   "source": [
    "train['goal'] = np.log1p(train['goal'])\n",
    "test['goal'] = np.log1p(test['goal'])"
   ]
  },
  {
   "cell_type": "markdown",
   "metadata": {},
   "source": [
    "### Text Cleaning"
   ]
  },
  {
   "cell_type": "code",
   "execution_count": 18,
   "metadata": {
    "collapsed": true
   },
   "outputs": [],
   "source": [
    "# creating a full list of descriptions from train and etst\n",
    "kickdesc = pd.Series(train['desc'].tolist() + test['desc'].tolist()).astype(str)"
   ]
  },
  {
   "cell_type": "code",
   "execution_count": 19,
   "metadata": {
    "collapsed": true
   },
   "outputs": [],
   "source": [
    "# this function cleans punctuations, digits and irregular tabs. Then converts the sentences to lower\n",
    "def desc_clean(word):\n",
    "    p1 = re.sub(pattern='(\\W+)|(\\d+)|(\\s+)',repl=' ',string=word)\n",
    "    p1 = p1.lower()\n",
    "    return p1\n",
    "\n",
    "kickdesc = kickdesc.map(desc_clean)"
   ]
  },
  {
   "cell_type": "code",
   "execution_count": 20,
   "metadata": {
    "collapsed": false
   },
   "outputs": [],
   "source": [
    "stop = set(stopwords.words('english'))\n",
    "kickdesc = [[x for x in x.split() if x not in stop] for x in kickdesc]\n",
    "\n",
    "stemmer = SnowballStemmer(language='english')\n",
    "kickdesc = [[stemmer.stem(x) for x in x] for x in kickdesc]\n",
    "\n",
    "kickdesc = [[x for x in x if len(x) > 2] for x in kickdesc]\n",
    "\n",
    "kickdesc = [' '.join(x) for x in kickdesc]"
   ]
  },
  {
   "cell_type": "markdown",
   "metadata": {},
   "source": [
    "### Creating Count Features"
   ]
  },
  {
   "cell_type": "code",
   "execution_count": 45,
   "metadata": {
    "collapsed": true
   },
   "outputs": [],
   "source": [
    "# Due to memory error, limited the number of features to 650\n",
    "cv = CountVectorizer(max_features=2000)"
   ]
  },
  {
   "cell_type": "code",
   "execution_count": 46,
   "metadata": {
    "collapsed": false
   },
   "outputs": [],
   "source": [
    "alldesc = cv.fit_transform(kickdesc).todense()"
   ]
  },
  {
   "cell_type": "code",
   "execution_count": 47,
   "metadata": {
    "collapsed": false
   },
   "outputs": [],
   "source": [
    "#create a data frame\n",
    "combine = pd.DataFrame(alldesc)\n",
    "combine.rename(columns= lambda x: 'variable_'+ str(x), inplace=True)"
   ]
  },
  {
   "cell_type": "code",
   "execution_count": 48,
   "metadata": {
    "collapsed": true
   },
   "outputs": [],
   "source": [
    "#split the text features\n",
    "\n",
    "train_text = combine[:train.shape[0]]\n",
    "test_text = combine[train.shape[0]:]\n",
    "\n",
    "test_text.reset_index(drop=True,inplace=True)"
   ]
  },
  {
   "cell_type": "markdown",
   "metadata": {},
   "source": [
    "### Finalizing train and test data before merging"
   ]
  },
  {
   "cell_type": "code",
   "execution_count": 49,
   "metadata": {
    "collapsed": true
   },
   "outputs": [],
   "source": [
    "cols_to_use = ['name_len','desc_len','keywords_len','name_count','desc_count','keywords_count','time1','time3','goal']"
   ]
  },
  {
   "cell_type": "code",
   "execution_count": 50,
   "metadata": {
    "collapsed": false
   },
   "outputs": [],
   "source": [
    "target = train['final_status']"
   ]
  },
  {
   "cell_type": "code",
   "execution_count": 51,
   "metadata": {
    "collapsed": true
   },
   "outputs": [],
   "source": [
    "train = train.loc[:,cols_to_use]\n",
    "test = test.loc[:,cols_to_use]"
   ]
  },
  {
   "cell_type": "code",
   "execution_count": 52,
   "metadata": {
    "collapsed": false
   },
   "outputs": [],
   "source": [
    "X_train = pd.concat([train, train_text],axis=1)\n",
    "X_test = pd.concat([test, test_text],axis=1)"
   ]
  },
  {
   "cell_type": "code",
   "execution_count": 53,
   "metadata": {
    "collapsed": false
   },
   "outputs": [
    {
     "name": "stdout",
     "output_type": "stream",
     "text": [
      "(108129, 109)\n",
      "(63465, 109)\n"
     ]
    }
   ],
   "source": [
    "print X_train.shape\n",
    "print X_test.shape"
   ]
  },
  {
   "cell_type": "markdown",
   "metadata": {},
   "source": [
    "### Model Training"
   ]
  },
  {
   "cell_type": "code",
   "execution_count": 57,
   "metadata": {
    "collapsed": false
   },
   "outputs": [],
   "source": [
    "#import pandas_ml as pdml\n",
    "#df = pdml.ModelFrame(data=X_train, label = target) \n",
    "#estimator = df.xgboost.XGBClassifier()\n",
    "#df.head()\n",
    "dtrain = xgb.DMatrix(data=X_train, label = target)\n",
    "dtest = xgb.DMatrix(data=X_test)"
   ]
  },
  {
   "cell_type": "code",
   "execution_count": 58,
   "metadata": {
    "collapsed": true
   },
   "outputs": [],
   "source": [
    "params = {\n",
    "    'objective':'binary:logistic',\n",
    "    'eval_metric':'error',\n",
    "    'eta':0.025,\n",
    "    'max_depth':6,\n",
    "    'subsample':0.7,\n",
    "    'colsample_bytree':0.7,\n",
    "    'min_child_weight':5\n",
    "    \n",
    "}"
   ]
  },
  {
   "cell_type": "code",
   "execution_count": null,
   "metadata": {
    "collapsed": false
   },
   "outputs": [
    {
     "name": "stderr",
     "output_type": "stream",
     "text": [
      "[0]\tcv-test-error:0.316412+0.001646\tcv-train-error:0.313944+0.002180\n",
      "[1]\tcv-test-error:0.314469+0.002762\tcv-train-error:0.311762+0.002445\n",
      "[2]\tcv-test-error:0.314322+0.002378\tcv-train-error:0.310712+0.002235\n",
      "[3]\tcv-test-error:0.313045+0.001742\tcv-train-error:0.309771+0.001499\n",
      "[4]\tcv-test-error:0.312416+0.002054\tcv-train-error:0.309459+0.001371\n",
      "[5]\tcv-test-error:0.312185+0.003046\tcv-train-error:0.309140+0.000953\n",
      "[6]\tcv-test-error:0.312425+0.002733\tcv-train-error:0.309332+0.000811\n",
      "[7]\tcv-test-error:0.312573+0.003049\tcv-train-error:0.309965+0.001047\n",
      "[8]\tcv-test-error:0.312574+0.002844\tcv-train-error:0.309121+0.000766\n",
      "[9]\tcv-test-error:0.312444+0.002691\tcv-train-error:0.309115+0.000822\n",
      "[10]\tcv-test-error:0.312157+0.002536\tcv-train-error:0.309165+0.000762\n",
      "[11]\tcv-test-error:0.312749+0.002566\tcv-train-error:0.309718+0.000845\n",
      "[12]\tcv-test-error:0.312795+0.002787\tcv-train-error:0.310016+0.000985\n",
      "[13]\tcv-test-error:0.313008+0.002880\tcv-train-error:0.310511+0.001284\n",
      "[14]\tcv-test-error:0.312897+0.002992\tcv-train-error:0.310252+0.000959\n",
      "[15]\tcv-test-error:0.312370+0.002976\tcv-train-error:0.309653+0.000731\n",
      "[16]\tcv-test-error:0.312388+0.002855\tcv-train-error:0.310028+0.000890\n",
      "[17]\tcv-test-error:0.312241+0.002845\tcv-train-error:0.309706+0.000663\n",
      "[18]\tcv-test-error:0.312453+0.002632\tcv-train-error:0.309746+0.000972\n",
      "[19]\tcv-test-error:0.312444+0.002654\tcv-train-error:0.310037+0.001216\n",
      "[20]\tcv-test-error:0.312481+0.002616\tcv-train-error:0.310007+0.001245\n",
      "[21]\tcv-test-error:0.312398+0.002426\tcv-train-error:0.309727+0.001145\n",
      "[22]\tcv-test-error:0.312176+0.002606\tcv-train-error:0.309406+0.001284\n",
      "[23]\tcv-test-error:0.311889+0.002446\tcv-train-error:0.309272+0.001030\n",
      "[24]\tcv-test-error:0.312259+0.002749\tcv-train-error:0.309327+0.001102\n",
      "[25]\tcv-test-error:0.312083+0.002864\tcv-train-error:0.309147+0.000887\n",
      "[26]\tcv-test-error:0.312120+0.002700\tcv-train-error:0.308862+0.001143\n",
      "[27]\tcv-test-error:0.312009+0.002496\tcv-train-error:0.308863+0.001077\n",
      "[28]\tcv-test-error:0.311917+0.002489\tcv-train-error:0.308724+0.000940\n",
      "[29]\tcv-test-error:0.311889+0.002503\tcv-train-error:0.308772+0.000898\n",
      "[30]\tcv-test-error:0.311593+0.002519\tcv-train-error:0.308624+0.000818\n",
      "[31]\tcv-test-error:0.311556+0.002268\tcv-train-error:0.308441+0.000753\n",
      "[32]\tcv-test-error:0.311418+0.002367\tcv-train-error:0.308432+0.000945\n",
      "[33]\tcv-test-error:0.311611+0.002162\tcv-train-error:0.308481+0.001178\n",
      "[34]\tcv-test-error:0.311445+0.002001\tcv-train-error:0.308345+0.001135\n",
      "[35]\tcv-test-error:0.311390+0.001940\tcv-train-error:0.308060+0.001209\n",
      "[36]\tcv-test-error:0.311029+0.001604\tcv-train-error:0.307843+0.001264\n",
      "[37]\tcv-test-error:0.311214+0.001666\tcv-train-error:0.307815+0.001306\n",
      "[38]\tcv-test-error:0.311112+0.001702\tcv-train-error:0.307850+0.001302\n",
      "[39]\tcv-test-error:0.311158+0.001480\tcv-train-error:0.307704+0.001437\n",
      "[40]\tcv-test-error:0.311047+0.001592\tcv-train-error:0.307641+0.001360\n",
      "[41]\tcv-test-error:0.310918+0.001690\tcv-train-error:0.307410+0.001339\n",
      "[42]\tcv-test-error:0.310890+0.001779\tcv-train-error:0.307323+0.001284\n",
      "[43]\tcv-test-error:0.311029+0.001783\tcv-train-error:0.307244+0.001418\n",
      "[44]\tcv-test-error:0.310733+0.001850\tcv-train-error:0.307068+0.001323\n",
      "[45]\tcv-test-error:0.310622+0.001811\tcv-train-error:0.306983+0.001326\n",
      "[46]\tcv-test-error:0.310474+0.001854\tcv-train-error:0.306744+0.001292\n",
      "[47]\tcv-test-error:0.310446+0.001827\tcv-train-error:0.306460+0.001227\n",
      "[48]\tcv-test-error:0.310261+0.001931\tcv-train-error:0.306347+0.001105\n",
      "[49]\tcv-test-error:0.310308+0.001897\tcv-train-error:0.306201+0.001044\n",
      "[50]\tcv-test-error:0.310206+0.001916\tcv-train-error:0.306125+0.001073\n",
      "[51]\tcv-test-error:0.310141+0.001840\tcv-train-error:0.306092+0.001041\n",
      "[52]\tcv-test-error:0.310150+0.001830\tcv-train-error:0.305993+0.001159\n",
      "[53]\tcv-test-error:0.309873+0.001783\tcv-train-error:0.305725+0.001292\n",
      "[54]\tcv-test-error:0.309826+0.001915\tcv-train-error:0.305676+0.001216\n",
      "[55]\tcv-test-error:0.309641+0.001988\tcv-train-error:0.305558+0.001216\n",
      "[56]\tcv-test-error:0.309531+0.001934\tcv-train-error:0.305426+0.001292\n",
      "[57]\tcv-test-error:0.309632+0.002002\tcv-train-error:0.305225+0.001163\n",
      "[58]\tcv-test-error:0.309568+0.001975\tcv-train-error:0.305246+0.001182\n",
      "[59]\tcv-test-error:0.309568+0.001861\tcv-train-error:0.305064+0.000994\n",
      "[60]\tcv-test-error:0.309494+0.001799\tcv-train-error:0.304911+0.001031\n",
      "[61]\tcv-test-error:0.309484+0.001807\tcv-train-error:0.304774+0.001000\n",
      "[62]\tcv-test-error:0.309151+0.001990\tcv-train-error:0.304603+0.001049\n",
      "[63]\tcv-test-error:0.309124+0.001933\tcv-train-error:0.304629+0.001005\n",
      "[64]\tcv-test-error:0.309078+0.001931\tcv-train-error:0.304511+0.000995\n",
      "[65]\tcv-test-error:0.309161+0.001742\tcv-train-error:0.304557+0.001008\n",
      "[66]\tcv-test-error:0.309105+0.001865\tcv-train-error:0.304474+0.001009\n",
      "[67]\tcv-test-error:0.309031+0.001750\tcv-train-error:0.304224+0.001017\n",
      "[68]\tcv-test-error:0.308883+0.001724\tcv-train-error:0.304146+0.000961\n",
      "[69]\tcv-test-error:0.308782+0.001786\tcv-train-error:0.304009+0.000936\n",
      "[70]\tcv-test-error:0.308578+0.001971\tcv-train-error:0.303912+0.000960\n",
      "[71]\tcv-test-error:0.308633+0.001909\tcv-train-error:0.303857+0.000959\n",
      "[72]\tcv-test-error:0.308532+0.001973\tcv-train-error:0.303822+0.000880\n",
      "[73]\tcv-test-error:0.308689+0.002036\tcv-train-error:0.303651+0.000878\n",
      "[74]\tcv-test-error:0.308624+0.002049\tcv-train-error:0.303602+0.001004\n",
      "[75]\tcv-test-error:0.308421+0.001881\tcv-train-error:0.303461+0.001028\n",
      "[76]\tcv-test-error:0.308301+0.001781\tcv-train-error:0.303385+0.000985\n",
      "[77]\tcv-test-error:0.308227+0.001857\tcv-train-error:0.303262+0.001098\n",
      "[78]\tcv-test-error:0.308070+0.001825\tcv-train-error:0.303082+0.001082\n",
      "[79]\tcv-test-error:0.307995+0.001995\tcv-train-error:0.303010+0.001018\n",
      "[80]\tcv-test-error:0.307894+0.001910\tcv-train-error:0.302939+0.001030\n",
      "[81]\tcv-test-error:0.307820+0.002088\tcv-train-error:0.302751+0.000967\n",
      "[82]\tcv-test-error:0.307635+0.002028\tcv-train-error:0.302643+0.000983\n",
      "[83]\tcv-test-error:0.307487+0.002290\tcv-train-error:0.302564+0.000918\n",
      "[84]\tcv-test-error:0.307450+0.002458\tcv-train-error:0.302485+0.000862\n",
      "[85]\tcv-test-error:0.307311+0.002436\tcv-train-error:0.302419+0.000887\n",
      "[86]\tcv-test-error:0.307246+0.002230\tcv-train-error:0.302180+0.000917\n",
      "[87]\tcv-test-error:0.307015+0.002199\tcv-train-error:0.302072+0.000920\n",
      "[88]\tcv-test-error:0.306895+0.002279\tcv-train-error:0.301947+0.000932\n",
      "[89]\tcv-test-error:0.306728+0.002145\tcv-train-error:0.301792+0.000949\n",
      "[90]\tcv-test-error:0.306812+0.002125\tcv-train-error:0.301748+0.001077\n",
      "[91]\tcv-test-error:0.306626+0.002047\tcv-train-error:0.301563+0.001100\n",
      "[92]\tcv-test-error:0.306608+0.002079\tcv-train-error:0.301489+0.001071\n",
      "[93]\tcv-test-error:0.306460+0.002002\tcv-train-error:0.301429+0.000967\n",
      "[94]\tcv-test-error:0.306553+0.001867\tcv-train-error:0.301244+0.001035\n",
      "[95]\tcv-test-error:0.306469+0.001971\tcv-train-error:0.301033+0.000908\n",
      "[96]\tcv-test-error:0.306395+0.001956\tcv-train-error:0.300943+0.000839\n",
      "[97]\tcv-test-error:0.306201+0.001858\tcv-train-error:0.300823+0.000889\n",
      "[98]\tcv-test-error:0.306183+0.001931\tcv-train-error:0.300740+0.000902\n",
      "[99]\tcv-test-error:0.306090+0.001940\tcv-train-error:0.300747+0.000822\n",
      "[100]\tcv-test-error:0.305896+0.001946\tcv-train-error:0.300543+0.000858\n",
      "[101]\tcv-test-error:0.305951+0.001882\tcv-train-error:0.300437+0.000958\n",
      "[102]\tcv-test-error:0.305914+0.001780\tcv-train-error:0.300358+0.000788\n",
      "[103]\tcv-test-error:0.305896+0.001752\tcv-train-error:0.300275+0.000831\n",
      "[104]\tcv-test-error:0.305868+0.001903\tcv-train-error:0.300169+0.000811\n",
      "[105]\tcv-test-error:0.305878+0.001792\tcv-train-error:0.300056+0.000710\n",
      "[106]\tcv-test-error:0.305896+0.001858\tcv-train-error:0.299880+0.000825\n",
      "[107]\tcv-test-error:0.305757+0.002021\tcv-train-error:0.299734+0.000784\n",
      "[108]\tcv-test-error:0.305841+0.001932\tcv-train-error:0.299637+0.000785\n",
      "[109]\tcv-test-error:0.305831+0.001930\tcv-train-error:0.299478+0.000805\n",
      "[110]\tcv-test-error:0.305572+0.001897\tcv-train-error:0.299489+0.000784\n",
      "[111]\tcv-test-error:0.305526+0.001930\tcv-train-error:0.299366+0.000754\n",
      "[112]\tcv-test-error:0.305507+0.001992\tcv-train-error:0.299346+0.000731\n",
      "[113]\tcv-test-error:0.305508+0.002036\tcv-train-error:0.299262+0.000805\n",
      "[114]\tcv-test-error:0.305267+0.002145\tcv-train-error:0.299078+0.000736\n",
      "[115]\tcv-test-error:0.305184+0.002155\tcv-train-error:0.299027+0.000775\n",
      "[116]\tcv-test-error:0.305249+0.002251\tcv-train-error:0.299015+0.000744\n",
      "[117]\tcv-test-error:0.305211+0.002189\tcv-train-error:0.298863+0.000771\n",
      "[118]\tcv-test-error:0.305230+0.002196\tcv-train-error:0.298747+0.000751\n",
      "[119]\tcv-test-error:0.305082+0.002336\tcv-train-error:0.298647+0.000779\n",
      "[120]\tcv-test-error:0.305082+0.002301\tcv-train-error:0.298573+0.000785\n",
      "[121]\tcv-test-error:0.304971+0.002349\tcv-train-error:0.298423+0.000739\n",
      "[122]\tcv-test-error:0.304879+0.002383\tcv-train-error:0.298363+0.000725\n",
      "[123]\tcv-test-error:0.304814+0.002382\tcv-train-error:0.298270+0.000708\n",
      "[124]\tcv-test-error:0.304879+0.002324\tcv-train-error:0.298183+0.000683\n",
      "[125]\tcv-test-error:0.304749+0.002512\tcv-train-error:0.298099+0.000688\n",
      "[126]\tcv-test-error:0.304666+0.002578\tcv-train-error:0.298069+0.000664\n",
      "[127]\tcv-test-error:0.304647+0.002634\tcv-train-error:0.297940+0.000693\n",
      "[128]\tcv-test-error:0.304582+0.002663\tcv-train-error:0.297903+0.000718\n",
      "[129]\tcv-test-error:0.304610+0.002640\tcv-train-error:0.297789+0.000687\n",
      "[130]\tcv-test-error:0.304527+0.002635\tcv-train-error:0.297739+0.000723\n",
      "[131]\tcv-test-error:0.304388+0.002654\tcv-train-error:0.297676+0.000642\n",
      "[132]\tcv-test-error:0.304324+0.002728\tcv-train-error:0.297572+0.000584\n",
      "[133]\tcv-test-error:0.304250+0.002737\tcv-train-error:0.297542+0.000607\n",
      "[134]\tcv-test-error:0.304379+0.002714\tcv-train-error:0.297468+0.000580\n",
      "[135]\tcv-test-error:0.304342+0.002814\tcv-train-error:0.297355+0.000457\n",
      "[136]\tcv-test-error:0.304296+0.002760\tcv-train-error:0.297253+0.000492\n",
      "[137]\tcv-test-error:0.304398+0.002735\tcv-train-error:0.297198+0.000531\n",
      "[138]\tcv-test-error:0.304278+0.002719\tcv-train-error:0.297066+0.000473\n",
      "[139]\tcv-test-error:0.304213+0.002679\tcv-train-error:0.297047+0.000555\n",
      "[140]\tcv-test-error:0.304028+0.002723\tcv-train-error:0.296980+0.000538\n",
      "[141]\tcv-test-error:0.303991+0.002918\tcv-train-error:0.296837+0.000473\n",
      "[142]\tcv-test-error:0.303908+0.002820\tcv-train-error:0.296756+0.000538\n",
      "[143]\tcv-test-error:0.303695+0.002791\tcv-train-error:0.296726+0.000501\n",
      "[144]\tcv-test-error:0.303732+0.002732\tcv-train-error:0.296590+0.000555\n",
      "[145]\tcv-test-error:0.303769+0.002758\tcv-train-error:0.296583+0.000564\n",
      "[146]\tcv-test-error:0.303667+0.002751\tcv-train-error:0.296444+0.000510\n",
      "[147]\tcv-test-error:0.303695+0.002848\tcv-train-error:0.296405+0.000551\n",
      "[148]\tcv-test-error:0.303621+0.002973\tcv-train-error:0.296301+0.000502\n",
      "[149]\tcv-test-error:0.303565+0.002890\tcv-train-error:0.296289+0.000508\n",
      "[150]\tcv-test-error:0.303463+0.002976\tcv-train-error:0.296203+0.000437\n",
      "[151]\tcv-test-error:0.303464+0.002841\tcv-train-error:0.296083+0.000450\n",
      "[152]\tcv-test-error:0.303279+0.002823\tcv-train-error:0.296120+0.000488\n",
      "[153]\tcv-test-error:0.303297+0.002843\tcv-train-error:0.295942+0.000577\n",
      "[154]\tcv-test-error:0.303084+0.002812\tcv-train-error:0.295864+0.000524\n",
      "[155]\tcv-test-error:0.303047+0.002816\tcv-train-error:0.295799+0.000539\n",
      "[156]\tcv-test-error:0.303038+0.002784\tcv-train-error:0.295741+0.000529\n",
      "[157]\tcv-test-error:0.303010+0.002654\tcv-train-error:0.295695+0.000532\n",
      "[158]\tcv-test-error:0.302890+0.002702\tcv-train-error:0.295554+0.000525\n",
      "[159]\tcv-test-error:0.302844+0.002678\tcv-train-error:0.295542+0.000540\n",
      "[160]\tcv-test-error:0.302936+0.002730\tcv-train-error:0.295403+0.000570\n",
      "[161]\tcv-test-error:0.302742+0.002757\tcv-train-error:0.295364+0.000553\n",
      "[162]\tcv-test-error:0.302677+0.002643\tcv-train-error:0.295267+0.000583\n",
      "[163]\tcv-test-error:0.302715+0.002550\tcv-train-error:0.295221+0.000676\n",
      "[164]\tcv-test-error:0.302585+0.002591\tcv-train-error:0.295158+0.000707\n",
      "[165]\tcv-test-error:0.302465+0.002795\tcv-train-error:0.295050+0.000669\n",
      "[166]\tcv-test-error:0.302640+0.002721\tcv-train-error:0.294955+0.000616\n",
      "[167]\tcv-test-error:0.302474+0.002768\tcv-train-error:0.294883+0.000599\n",
      "[168]\tcv-test-error:0.302557+0.002820\tcv-train-error:0.294821+0.000586\n",
      "[169]\tcv-test-error:0.302474+0.002864\tcv-train-error:0.294745+0.000499\n",
      "[170]\tcv-test-error:0.302437+0.002809\tcv-train-error:0.294659+0.000529\n",
      "[171]\tcv-test-error:0.302409+0.002827\tcv-train-error:0.294629+0.000553\n",
      "[172]\tcv-test-error:0.302326+0.002851\tcv-train-error:0.294523+0.000576\n",
      "[173]\tcv-test-error:0.302280+0.002874\tcv-train-error:0.294488+0.000630\n",
      "[174]\tcv-test-error:0.302197+0.002903\tcv-train-error:0.294312+0.000624\n",
      "[175]\tcv-test-error:0.302169+0.002914\tcv-train-error:0.294206+0.000603\n",
      "[176]\tcv-test-error:0.302178+0.002814\tcv-train-error:0.294166+0.000650\n",
      "[177]\tcv-test-error:0.302095+0.002768\tcv-train-error:0.293988+0.000606\n",
      "[178]\tcv-test-error:0.302021+0.002796\tcv-train-error:0.293940+0.000578\n",
      "[179]\tcv-test-error:0.301947+0.002861\tcv-train-error:0.293903+0.000594\n",
      "[180]\tcv-test-error:0.302002+0.002821\tcv-train-error:0.293866+0.000574\n",
      "[181]\tcv-test-error:0.301965+0.002937\tcv-train-error:0.293757+0.000582\n",
      "[182]\tcv-test-error:0.301891+0.002962\tcv-train-error:0.293642+0.000553\n",
      "[183]\tcv-test-error:0.301762+0.003072\tcv-train-error:0.293579+0.000550\n",
      "[184]\tcv-test-error:0.301706+0.003105\tcv-train-error:0.293457+0.000542\n",
      "[185]\tcv-test-error:0.301725+0.003179\tcv-train-error:0.293422+0.000542\n",
      "[186]\tcv-test-error:0.301660+0.003150\tcv-train-error:0.293424+0.000516\n",
      "[187]\tcv-test-error:0.301660+0.003112\tcv-train-error:0.293348+0.000479\n",
      "[188]\tcv-test-error:0.301669+0.003166\tcv-train-error:0.293290+0.000484\n",
      "[189]\tcv-test-error:0.301586+0.003136\tcv-train-error:0.293255+0.000513\n",
      "[190]\tcv-test-error:0.301586+0.003117\tcv-train-error:0.293161+0.000570\n",
      "[191]\tcv-test-error:0.301494+0.003159\tcv-train-error:0.293064+0.000655\n",
      "[192]\tcv-test-error:0.301531+0.003078\tcv-train-error:0.293045+0.000622\n",
      "[193]\tcv-test-error:0.301336+0.003099\tcv-train-error:0.293017+0.000661\n",
      "[194]\tcv-test-error:0.301364+0.003048\tcv-train-error:0.292918+0.000603\n",
      "[195]\tcv-test-error:0.301318+0.003057\tcv-train-error:0.292865+0.000619\n",
      "[196]\tcv-test-error:0.301355+0.003106\tcv-train-error:0.292761+0.000672\n",
      "[197]\tcv-test-error:0.301383+0.003058\tcv-train-error:0.292707+0.000662\n",
      "[198]\tcv-test-error:0.301401+0.003086\tcv-train-error:0.292647+0.000654\n",
      "[199]\tcv-test-error:0.301438+0.003086\tcv-train-error:0.292603+0.000722\n",
      "[200]\tcv-test-error:0.301447+0.003135\tcv-train-error:0.292527+0.000743\n",
      "[201]\tcv-test-error:0.301475+0.003118\tcv-train-error:0.292499+0.000723\n",
      "[202]\tcv-test-error:0.301614+0.003078\tcv-train-error:0.292430+0.000746\n",
      "[203]\tcv-test-error:0.301605+0.003079\tcv-train-error:0.292358+0.000759\n",
      "[204]\tcv-test-error:0.301521+0.002984\tcv-train-error:0.292312+0.000696\n",
      "[205]\tcv-test-error:0.301466+0.003082\tcv-train-error:0.292254+0.000693\n",
      "[206]\tcv-test-error:0.301503+0.003052\tcv-train-error:0.292247+0.000709\n",
      "[207]\tcv-test-error:0.301494+0.003175\tcv-train-error:0.292206+0.000749\n",
      "[208]\tcv-test-error:0.301531+0.003267\tcv-train-error:0.292137+0.000731\n",
      "[209]\tcv-test-error:0.301558+0.003219\tcv-train-error:0.292097+0.000646\n",
      "[210]\tcv-test-error:0.301429+0.003140\tcv-train-error:0.292007+0.000684\n",
      "[211]\tcv-test-error:0.301447+0.003352\tcv-train-error:0.291931+0.000648\n",
      "[212]\tcv-test-error:0.301244+0.003383\tcv-train-error:0.291840+0.000633\n",
      "[213]\tcv-test-error:0.301290+0.003289\tcv-train-error:0.291771+0.000645\n",
      "[214]\tcv-test-error:0.301096+0.003228\tcv-train-error:0.291741+0.000666\n",
      "[215]\tcv-test-error:0.301059+0.003251\tcv-train-error:0.291734+0.000631\n",
      "[216]\tcv-test-error:0.301188+0.003336\tcv-train-error:0.291639+0.000631\n",
      "[217]\tcv-test-error:0.301244+0.003215\tcv-train-error:0.291519+0.000643\n",
      "[218]\tcv-test-error:0.301179+0.003098\tcv-train-error:0.291514+0.000633\n",
      "[219]\tcv-test-error:0.301142+0.003152\tcv-train-error:0.291454+0.000580\n",
      "[220]\tcv-test-error:0.301059+0.003100\tcv-train-error:0.291454+0.000582\n",
      "[221]\tcv-test-error:0.301050+0.003009\tcv-train-error:0.291383+0.000597\n",
      "[222]\tcv-test-error:0.301050+0.002934\tcv-train-error:0.291362+0.000627\n",
      "[223]\tcv-test-error:0.301022+0.002992\tcv-train-error:0.291325+0.000615\n",
      "[224]\tcv-test-error:0.300846+0.002943\tcv-train-error:0.291269+0.000592\n",
      "[225]\tcv-test-error:0.300837+0.003011\tcv-train-error:0.291232+0.000636\n",
      "[226]\tcv-test-error:0.300782+0.002996\tcv-train-error:0.291077+0.000680\n",
      "[227]\tcv-test-error:0.300846+0.003014\tcv-train-error:0.291034+0.000660\n",
      "[228]\tcv-test-error:0.300828+0.002915\tcv-train-error:0.290983+0.000604\n",
      "[229]\tcv-test-error:0.300763+0.002932\tcv-train-error:0.290888+0.000646\n",
      "[230]\tcv-test-error:0.300781+0.002914\tcv-train-error:0.290821+0.000615\n",
      "[231]\tcv-test-error:0.300856+0.003036\tcv-train-error:0.290740+0.000648\n",
      "[232]\tcv-test-error:0.300809+0.003004\tcv-train-error:0.290678+0.000726\n",
      "[233]\tcv-test-error:0.300735+0.002981\tcv-train-error:0.290583+0.000672\n",
      "[234]\tcv-test-error:0.300707+0.002984\tcv-train-error:0.290486+0.000684\n",
      "[235]\tcv-test-error:0.300717+0.002947\tcv-train-error:0.290462+0.000686\n",
      "[236]\tcv-test-error:0.300643+0.003069\tcv-train-error:0.290391+0.000721\n",
      "[237]\tcv-test-error:0.300726+0.003133\tcv-train-error:0.290354+0.000715\n",
      "[238]\tcv-test-error:0.300578+0.003092\tcv-train-error:0.290241+0.000664\n",
      "[239]\tcv-test-error:0.300615+0.003065\tcv-train-error:0.290243+0.000706\n",
      "[240]\tcv-test-error:0.300634+0.003077\tcv-train-error:0.290171+0.000701\n",
      "[241]\tcv-test-error:0.300680+0.003214\tcv-train-error:0.290134+0.000728\n",
      "[242]\tcv-test-error:0.300661+0.003207\tcv-train-error:0.290007+0.000711\n",
      "[243]\tcv-test-error:0.300569+0.003062\tcv-train-error:0.290002+0.000712\n",
      "[244]\tcv-test-error:0.300587+0.003111\tcv-train-error:0.289975+0.000724\n",
      "[245]\tcv-test-error:0.300486+0.003250\tcv-train-error:0.289873+0.000748\n",
      "[246]\tcv-test-error:0.300541+0.003236\tcv-train-error:0.289790+0.000771\n",
      "[247]\tcv-test-error:0.300476+0.003297\tcv-train-error:0.289757+0.000727\n",
      "[248]\tcv-test-error:0.300523+0.003280\tcv-train-error:0.289769+0.000752\n",
      "[249]\tcv-test-error:0.300458+0.003261\tcv-train-error:0.289720+0.000704\n",
      "[250]\tcv-test-error:0.300448+0.003235\tcv-train-error:0.289598+0.000681\n",
      "[251]\tcv-test-error:0.300504+0.003262\tcv-train-error:0.289556+0.000659\n",
      "[252]\tcv-test-error:0.300393+0.003071\tcv-train-error:0.289431+0.000692\n",
      "[253]\tcv-test-error:0.300254+0.003253\tcv-train-error:0.289382+0.000619\n",
      "[254]\tcv-test-error:0.300310+0.003348\tcv-train-error:0.289265+0.000664\n",
      "[255]\tcv-test-error:0.300245+0.003376\tcv-train-error:0.289230+0.000646\n",
      "[256]\tcv-test-error:0.300236+0.003204\tcv-train-error:0.289156+0.000648\n",
      "[257]\tcv-test-error:0.300365+0.003265\tcv-train-error:0.289108+0.000650\n",
      "[258]\tcv-test-error:0.300421+0.003329\tcv-train-error:0.289004+0.000654\n",
      "[259]\tcv-test-error:0.300411+0.003291\tcv-train-error:0.288911+0.000657\n",
      "[260]\tcv-test-error:0.300440+0.003389\tcv-train-error:0.288853+0.000674\n",
      "[261]\tcv-test-error:0.300449+0.003388\tcv-train-error:0.288830+0.000707\n",
      "[262]\tcv-test-error:0.300476+0.003369\tcv-train-error:0.288782+0.000729\n",
      "[263]\tcv-test-error:0.300365+0.003382\tcv-train-error:0.288765+0.000786\n",
      "[264]\tcv-test-error:0.300393+0.003360\tcv-train-error:0.288671+0.000769\n",
      "[265]\tcv-test-error:0.300402+0.003340\tcv-train-error:0.288647+0.000772\n",
      "[266]\tcv-test-error:0.300393+0.003340\tcv-train-error:0.288608+0.000766\n",
      "[267]\tcv-test-error:0.300375+0.003307\tcv-train-error:0.288569+0.000784\n",
      "[268]\tcv-test-error:0.300301+0.003335\tcv-train-error:0.288516+0.000803\n",
      "[269]\tcv-test-error:0.300273+0.003256\tcv-train-error:0.288421+0.000800\n",
      "[270]\tcv-test-error:0.300282+0.003170\tcv-train-error:0.288365+0.000831\n",
      "[271]\tcv-test-error:0.300310+0.003236\tcv-train-error:0.288344+0.000813\n",
      "[272]\tcv-test-error:0.300273+0.003278\tcv-train-error:0.288321+0.000769\n",
      "[273]\tcv-test-error:0.300449+0.003310\tcv-train-error:0.288284+0.000820\n",
      "[274]\tcv-test-error:0.300374+0.003247\tcv-train-error:0.288264+0.000810\n",
      "[275]\tcv-test-error:0.300217+0.003185\tcv-train-error:0.288222+0.000824\n",
      "[276]\tcv-test-error:0.300254+0.003110\tcv-train-error:0.288194+0.000809\n",
      "[277]\tcv-test-error:0.300134+0.003028\tcv-train-error:0.288118+0.000842\n",
      "[278]\tcv-test-error:0.300152+0.003146\tcv-train-error:0.288072+0.000811\n",
      "[279]\tcv-test-error:0.300125+0.003170\tcv-train-error:0.287986+0.000845\n",
      "[280]\tcv-test-error:0.300088+0.003216\tcv-train-error:0.287954+0.000841\n",
      "[281]\tcv-test-error:0.300042+0.003137\tcv-train-error:0.287854+0.000864\n",
      "[282]\tcv-test-error:0.299949+0.003151\tcv-train-error:0.287796+0.000868\n",
      "[283]\tcv-test-error:0.299949+0.003120\tcv-train-error:0.287746+0.000849\n",
      "[284]\tcv-test-error:0.299912+0.003176\tcv-train-error:0.287681+0.000848\n",
      "[285]\tcv-test-error:0.299921+0.003098\tcv-train-error:0.287625+0.000871\n",
      "[286]\tcv-test-error:0.299921+0.003059\tcv-train-error:0.287575+0.000911\n",
      "[287]\tcv-test-error:0.299884+0.003033\tcv-train-error:0.287512+0.000888\n",
      "[288]\tcv-test-error:0.299792+0.003077\tcv-train-error:0.287498+0.000885\n",
      "[289]\tcv-test-error:0.299774+0.003096\tcv-train-error:0.287510+0.000874\n",
      "[290]\tcv-test-error:0.299764+0.003077\tcv-train-error:0.287477+0.000909\n",
      "[291]\tcv-test-error:0.299690+0.003020\tcv-train-error:0.287343+0.000885\n",
      "[292]\tcv-test-error:0.299635+0.003027\tcv-train-error:0.287286+0.000940\n",
      "[293]\tcv-test-error:0.299607+0.002994\tcv-train-error:0.287223+0.000927\n",
      "[294]\tcv-test-error:0.299589+0.003052\tcv-train-error:0.287128+0.001016\n",
      "[295]\tcv-test-error:0.299514+0.002931\tcv-train-error:0.287128+0.000919\n",
      "[296]\tcv-test-error:0.299607+0.002855\tcv-train-error:0.287066+0.000944\n",
      "[297]\tcv-test-error:0.299579+0.002863\tcv-train-error:0.286987+0.001034\n",
      "[298]\tcv-test-error:0.299561+0.002860\tcv-train-error:0.286945+0.001026\n",
      "[299]\tcv-test-error:0.299450+0.003000\tcv-train-error:0.286964+0.001069\n",
      "[300]\tcv-test-error:0.299478+0.003125\tcv-train-error:0.286897+0.001007\n",
      "[301]\tcv-test-error:0.299533+0.003038\tcv-train-error:0.286818+0.001016\n",
      "[302]\tcv-test-error:0.299533+0.002988\tcv-train-error:0.286700+0.001009\n",
      "[303]\tcv-test-error:0.299588+0.002878\tcv-train-error:0.286640+0.001007\n",
      "[304]\tcv-test-error:0.299542+0.002877\tcv-train-error:0.286606+0.000936\n",
      "[305]\tcv-test-error:0.299552+0.002899\tcv-train-error:0.286534+0.000939\n",
      "[306]\tcv-test-error:0.299487+0.002931\tcv-train-error:0.286569+0.000937\n",
      "[307]\tcv-test-error:0.299450+0.002985\tcv-train-error:0.286532+0.000878\n",
      "[308]\tcv-test-error:0.299413+0.002911\tcv-train-error:0.286509+0.000915\n",
      "[309]\tcv-test-error:0.299265+0.002924\tcv-train-error:0.286509+0.000896\n",
      "[310]\tcv-test-error:0.299135+0.002820\tcv-train-error:0.286465+0.000965\n",
      "[311]\tcv-test-error:0.299191+0.002797\tcv-train-error:0.286368+0.000966\n",
      "[312]\tcv-test-error:0.299182+0.002787\tcv-train-error:0.286321+0.000937\n",
      "[313]\tcv-test-error:0.299135+0.002952\tcv-train-error:0.286215+0.000940\n",
      "[314]\tcv-test-error:0.299098+0.002943\tcv-train-error:0.286206+0.000952\n",
      "[315]\tcv-test-error:0.299052+0.002968\tcv-train-error:0.286141+0.000947\n",
      "[316]\tcv-test-error:0.298960+0.002942\tcv-train-error:0.286086+0.000931\n",
      "[317]\tcv-test-error:0.298885+0.003085\tcv-train-error:0.285972+0.000959\n",
      "[318]\tcv-test-error:0.298895+0.002906\tcv-train-error:0.285915+0.000901\n",
      "[319]\tcv-test-error:0.298913+0.002845\tcv-train-error:0.285923+0.000916\n",
      "[320]\tcv-test-error:0.298978+0.002851\tcv-train-error:0.285857+0.000908\n",
      "[321]\tcv-test-error:0.298978+0.002936\tcv-train-error:0.285843+0.000921\n",
      "[322]\tcv-test-error:0.298830+0.002930\tcv-train-error:0.285785+0.000920\n",
      "[323]\tcv-test-error:0.298848+0.002970\tcv-train-error:0.285794+0.000911\n",
      "[324]\tcv-test-error:0.298784+0.002808\tcv-train-error:0.285676+0.000931\n",
      "[325]\tcv-test-error:0.298756+0.002823\tcv-train-error:0.285616+0.000922\n",
      "[326]\tcv-test-error:0.298775+0.002849\tcv-train-error:0.285551+0.000889\n",
      "[327]\tcv-test-error:0.298839+0.002796\tcv-train-error:0.285431+0.000874\n",
      "[328]\tcv-test-error:0.298849+0.002746\tcv-train-error:0.285424+0.000833\n",
      "[329]\tcv-test-error:0.298867+0.002816\tcv-train-error:0.285320+0.000934\n",
      "[330]\tcv-test-error:0.298886+0.002875\tcv-train-error:0.285292+0.000958\n",
      "[331]\tcv-test-error:0.298849+0.002855\tcv-train-error:0.285258+0.000920\n",
      "[332]\tcv-test-error:0.298913+0.002917\tcv-train-error:0.285230+0.000919\n",
      "[333]\tcv-test-error:0.298858+0.002899\tcv-train-error:0.285207+0.000922\n",
      "[334]\tcv-test-error:0.298922+0.002747\tcv-train-error:0.285186+0.000923\n",
      "[335]\tcv-test-error:0.298886+0.002689\tcv-train-error:0.285122+0.000937\n",
      "[336]\tcv-test-error:0.298839+0.002770\tcv-train-error:0.285071+0.000955\n",
      "[337]\tcv-test-error:0.298811+0.002713\tcv-train-error:0.285024+0.000911\n",
      "[338]\tcv-test-error:0.298701+0.002681\tcv-train-error:0.284987+0.000865\n",
      "[339]\tcv-test-error:0.298701+0.002735\tcv-train-error:0.284929+0.000827\n",
      "[340]\tcv-test-error:0.298765+0.002752\tcv-train-error:0.284837+0.000807\n",
      "[341]\tcv-test-error:0.298849+0.002803\tcv-train-error:0.284766+0.000863\n",
      "[342]\tcv-test-error:0.298895+0.002761\tcv-train-error:0.284768+0.000896\n",
      "[343]\tcv-test-error:0.298849+0.002737\tcv-train-error:0.284726+0.000846\n",
      "[344]\tcv-test-error:0.298747+0.002694\tcv-train-error:0.284717+0.000835\n",
      "[345]\tcv-test-error:0.298737+0.002537\tcv-train-error:0.284700+0.000882\n",
      "[346]\tcv-test-error:0.298673+0.002536\tcv-train-error:0.284636+0.000885\n",
      "[347]\tcv-test-error:0.298701+0.002537\tcv-train-error:0.284636+0.000851\n",
      "[348]\tcv-test-error:0.298728+0.002531\tcv-train-error:0.284567+0.000862\n",
      "[349]\tcv-test-error:0.298636+0.002565\tcv-train-error:0.284476+0.000861\n",
      "[350]\tcv-test-error:0.298673+0.002624\tcv-train-error:0.284469+0.000847\n",
      "[351]\tcv-test-error:0.298645+0.002641\tcv-train-error:0.284462+0.000868\n",
      "[352]\tcv-test-error:0.298507+0.002548\tcv-train-error:0.284398+0.000854\n",
      "[353]\tcv-test-error:0.298497+0.002573\tcv-train-error:0.284402+0.000891\n",
      "[354]\tcv-test-error:0.298534+0.002713\tcv-train-error:0.284386+0.000892\n",
      "[355]\tcv-test-error:0.298590+0.002821\tcv-train-error:0.284354+0.000885\n",
      "[356]\tcv-test-error:0.298590+0.002910\tcv-train-error:0.284277+0.000952\n",
      "[357]\tcv-test-error:0.298608+0.002863\tcv-train-error:0.284287+0.000949\n",
      "[358]\tcv-test-error:0.298515+0.002849\tcv-train-error:0.284167+0.000943\n",
      "[359]\tcv-test-error:0.298571+0.002911\tcv-train-error:0.284107+0.000926\n",
      "[360]\tcv-test-error:0.298645+0.002962\tcv-train-error:0.284049+0.000900\n",
      "[361]\tcv-test-error:0.298580+0.002895\tcv-train-error:0.283991+0.000953\n",
      "[362]\tcv-test-error:0.298478+0.002855\tcv-train-error:0.283915+0.000902\n",
      "[363]\tcv-test-error:0.298525+0.002806\tcv-train-error:0.283882+0.000932\n",
      "[364]\tcv-test-error:0.298479+0.002720\tcv-train-error:0.283834+0.000920\n",
      "[365]\tcv-test-error:0.298534+0.002776\tcv-train-error:0.283794+0.000871\n",
      "[366]\tcv-test-error:0.298571+0.002674\tcv-train-error:0.283748+0.000871\n",
      "[367]\tcv-test-error:0.298414+0.002773\tcv-train-error:0.283690+0.000868\n",
      "[368]\tcv-test-error:0.298386+0.002789\tcv-train-error:0.283632+0.000909\n",
      "[369]\tcv-test-error:0.298321+0.002843\tcv-train-error:0.283561+0.000898\n",
      "[370]\tcv-test-error:0.298312+0.002802\tcv-train-error:0.283531+0.000885\n",
      "[371]\tcv-test-error:0.298331+0.002786\tcv-train-error:0.283503+0.000881\n",
      "[372]\tcv-test-error:0.298229+0.002813\tcv-train-error:0.283473+0.000791\n",
      "[373]\tcv-test-error:0.298220+0.002761\tcv-train-error:0.283445+0.000784\n",
      "[374]\tcv-test-error:0.298146+0.002710\tcv-train-error:0.283429+0.000788\n",
      "[375]\tcv-test-error:0.298136+0.002685\tcv-train-error:0.283373+0.000845\n",
      "[376]\tcv-test-error:0.298155+0.002574\tcv-train-error:0.283311+0.000838\n",
      "[377]\tcv-test-error:0.298146+0.002541\tcv-train-error:0.283204+0.000898\n",
      "[378]\tcv-test-error:0.298081+0.002594\tcv-train-error:0.283196+0.000910\n",
      "[379]\tcv-test-error:0.298201+0.002592\tcv-train-error:0.283165+0.000910\n",
      "[380]\tcv-test-error:0.298063+0.002625\tcv-train-error:0.283149+0.000887\n",
      "[381]\tcv-test-error:0.297998+0.002613\tcv-train-error:0.283077+0.000897\n",
      "[382]\tcv-test-error:0.297942+0.002688\tcv-train-error:0.283052+0.000852\n",
      "[383]\tcv-test-error:0.298026+0.002764\tcv-train-error:0.283029+0.000900\n",
      "[384]\tcv-test-error:0.297905+0.002704\tcv-train-error:0.282955+0.000871\n",
      "[385]\tcv-test-error:0.297896+0.002726\tcv-train-error:0.282941+0.000796\n",
      "[386]\tcv-test-error:0.297942+0.002708\tcv-train-error:0.282872+0.000813\n",
      "[387]\tcv-test-error:0.297905+0.002598\tcv-train-error:0.282823+0.000879\n",
      "[388]\tcv-test-error:0.297942+0.002576\tcv-train-error:0.282800+0.000850\n",
      "[389]\tcv-test-error:0.297924+0.002585\tcv-train-error:0.282763+0.000843\n",
      "[390]\tcv-test-error:0.297942+0.002574\tcv-train-error:0.282673+0.000847\n",
      "[391]\tcv-test-error:0.297896+0.002652\tcv-train-error:0.282622+0.000801\n",
      "[392]\tcv-test-error:0.297896+0.002619\tcv-train-error:0.282580+0.000843\n",
      "[393]\tcv-test-error:0.297988+0.002614\tcv-train-error:0.282555+0.000881\n",
      "[394]\tcv-test-error:0.298007+0.002614\tcv-train-error:0.282506+0.000888\n",
      "[395]\tcv-test-error:0.298016+0.002606\tcv-train-error:0.282518+0.000900\n",
      "[396]\tcv-test-error:0.298016+0.002510\tcv-train-error:0.282499+0.000934\n",
      "[397]\tcv-test-error:0.298099+0.002518\tcv-train-error:0.282462+0.000899\n",
      "[398]\tcv-test-error:0.298072+0.002611\tcv-train-error:0.282363+0.000898\n",
      "[399]\tcv-test-error:0.297998+0.002557\tcv-train-error:0.282333+0.000878\n",
      "[400]\tcv-test-error:0.297970+0.002517\tcv-train-error:0.282303+0.000866\n",
      "[401]\tcv-test-error:0.298081+0.002533\tcv-train-error:0.282301+0.000887\n",
      "[402]\tcv-test-error:0.298072+0.002437\tcv-train-error:0.282314+0.000884\n",
      "[403]\tcv-test-error:0.298063+0.002444\tcv-train-error:0.282292+0.000921\n",
      "[404]\tcv-test-error:0.298072+0.002410\tcv-train-error:0.282236+0.000921\n",
      "[405]\tcv-test-error:0.297970+0.002477\tcv-train-error:0.282155+0.000908\n",
      "[406]\tcv-test-error:0.297914+0.002435\tcv-train-error:0.282116+0.000869\n",
      "[407]\tcv-test-error:0.297933+0.002484\tcv-train-error:0.282072+0.000903\n",
      "[408]\tcv-test-error:0.297877+0.002550\tcv-train-error:0.281996+0.000889\n",
      "[409]\tcv-test-error:0.297794+0.002620\tcv-train-error:0.281972+0.000897\n",
      "[410]\tcv-test-error:0.297887+0.002629\tcv-train-error:0.281951+0.000876\n",
      "[411]\tcv-test-error:0.297905+0.002666\tcv-train-error:0.281864+0.000888\n",
      "[412]\tcv-test-error:0.297859+0.002618\tcv-train-error:0.281824+0.000911\n",
      "[413]\tcv-test-error:0.297859+0.002740\tcv-train-error:0.281755+0.000895\n",
      "[414]\tcv-test-error:0.297831+0.002671\tcv-train-error:0.281734+0.000948\n",
      "[415]\tcv-test-error:0.297859+0.002649\tcv-train-error:0.281706+0.000894\n",
      "[416]\tcv-test-error:0.297905+0.002681\tcv-train-error:0.281649+0.000905\n",
      "[417]\tcv-test-error:0.297952+0.002698\tcv-train-error:0.281591+0.000824\n",
      "[418]\tcv-test-error:0.297924+0.002672\tcv-train-error:0.281565+0.000854\n",
      "[419]\tcv-test-error:0.297850+0.002582\tcv-train-error:0.281491+0.000871\n",
      "[420]\tcv-test-error:0.297776+0.002565\tcv-train-error:0.281399+0.000853\n",
      "[421]\tcv-test-error:0.297748+0.002606\tcv-train-error:0.281399+0.000803\n",
      "[422]\tcv-test-error:0.297720+0.002610\tcv-train-error:0.281397+0.000795\n",
      "[423]\tcv-test-error:0.297776+0.002627\tcv-train-error:0.281355+0.000811\n",
      "[424]\tcv-test-error:0.297850+0.002579\tcv-train-error:0.281309+0.000804\n",
      "[425]\tcv-test-error:0.297905+0.002618\tcv-train-error:0.281299+0.000808\n",
      "[426]\tcv-test-error:0.297951+0.002604\tcv-train-error:0.281184+0.000826\n",
      "[427]\tcv-test-error:0.297942+0.002595\tcv-train-error:0.281195+0.000795\n",
      "[428]\tcv-test-error:0.297924+0.002494\tcv-train-error:0.281149+0.000770\n",
      "[429]\tcv-test-error:0.297896+0.002545\tcv-train-error:0.281131+0.000781\n",
      "[430]\tcv-test-error:0.297887+0.002547\tcv-train-error:0.281061+0.000687\n",
      "[431]\tcv-test-error:0.297905+0.002547\tcv-train-error:0.281071+0.000709\n",
      "[432]\tcv-test-error:0.297785+0.002581\tcv-train-error:0.281036+0.000713\n",
      "[433]\tcv-test-error:0.297692+0.002516\tcv-train-error:0.281001+0.000704\n",
      "[434]\tcv-test-error:0.297776+0.002542\tcv-train-error:0.280895+0.000675\n",
      "[435]\tcv-test-error:0.297794+0.002491\tcv-train-error:0.280837+0.000668\n",
      "[436]\tcv-test-error:0.297748+0.002475\tcv-train-error:0.280888+0.000635\n",
      "[437]\tcv-test-error:0.297711+0.002493\tcv-train-error:0.280858+0.000676\n",
      "[438]\tcv-test-error:0.297683+0.002556\tcv-train-error:0.280804+0.000648\n",
      "[439]\tcv-test-error:0.297711+0.002544\tcv-train-error:0.280751+0.000649\n",
      "[440]\tcv-test-error:0.297517+0.002460\tcv-train-error:0.280694+0.000652\n",
      "[441]\tcv-test-error:0.297609+0.002420\tcv-train-error:0.280657+0.000630\n",
      "[442]\tcv-test-error:0.297646+0.002444\tcv-train-error:0.280668+0.000610\n",
      "[443]\tcv-test-error:0.297618+0.002431\tcv-train-error:0.280608+0.000603\n",
      "[444]\tcv-test-error:0.297637+0.002476\tcv-train-error:0.280511+0.000598\n",
      "[445]\tcv-test-error:0.297581+0.002486\tcv-train-error:0.280472+0.000629\n",
      "[446]\tcv-test-error:0.297628+0.002418\tcv-train-error:0.280451+0.000653\n",
      "[447]\tcv-test-error:0.297600+0.002370\tcv-train-error:0.280372+0.000639\n",
      "[448]\tcv-test-error:0.297665+0.002241\tcv-train-error:0.280335+0.000606\n",
      "[449]\tcv-test-error:0.297655+0.002267\tcv-train-error:0.280400+0.000639\n",
      "[450]\tcv-test-error:0.297609+0.002240\tcv-train-error:0.280298+0.000671\n",
      "[451]\tcv-test-error:0.297517+0.002177\tcv-train-error:0.280243+0.000686\n",
      "[452]\tcv-test-error:0.297452+0.002072\tcv-train-error:0.280264+0.000688\n",
      "[453]\tcv-test-error:0.297563+0.002161\tcv-train-error:0.280206+0.000661\n",
      "[454]\tcv-test-error:0.297563+0.002199\tcv-train-error:0.280155+0.000662\n",
      "[455]\tcv-test-error:0.297591+0.002100\tcv-train-error:0.280176+0.000666\n",
      "[456]\tcv-test-error:0.297554+0.002126\tcv-train-error:0.280116+0.000686\n",
      "[457]\tcv-test-error:0.297517+0.002114\tcv-train-error:0.280079+0.000696\n",
      "[458]\tcv-test-error:0.297600+0.002148\tcv-train-error:0.280058+0.000702\n",
      "[459]\tcv-test-error:0.297489+0.002197\tcv-train-error:0.280012+0.000694\n",
      "[460]\tcv-test-error:0.297526+0.002166\tcv-train-error:0.280014+0.000661\n",
      "[461]\tcv-test-error:0.297572+0.002221\tcv-train-error:0.279988+0.000659\n",
      "[462]\tcv-test-error:0.297544+0.002246\tcv-train-error:0.279931+0.000668\n",
      "[463]\tcv-test-error:0.297480+0.002102\tcv-train-error:0.279884+0.000666\n",
      "[464]\tcv-test-error:0.297424+0.002128\tcv-train-error:0.279884+0.000690\n",
      "[465]\tcv-test-error:0.297489+0.002260\tcv-train-error:0.279891+0.000746\n",
      "[466]\tcv-test-error:0.297378+0.002187\tcv-train-error:0.279783+0.000772\n",
      "[467]\tcv-test-error:0.297387+0.002174\tcv-train-error:0.279785+0.000761\n",
      "[468]\tcv-test-error:0.297461+0.002129\tcv-train-error:0.279776+0.000730\n",
      "[469]\tcv-test-error:0.297378+0.002143\tcv-train-error:0.279725+0.000759\n",
      "[470]\tcv-test-error:0.297313+0.002092\tcv-train-error:0.279723+0.000700\n",
      "[471]\tcv-test-error:0.297304+0.002187\tcv-train-error:0.279672+0.000688\n",
      "[472]\tcv-test-error:0.297304+0.002106\tcv-train-error:0.279618+0.000663\n",
      "[473]\tcv-test-error:0.297212+0.002146\tcv-train-error:0.279611+0.000701\n",
      "[474]\tcv-test-error:0.297258+0.002179\tcv-train-error:0.279558+0.000717\n",
      "[475]\tcv-test-error:0.297239+0.002240\tcv-train-error:0.279524+0.000731\n",
      "[476]\tcv-test-error:0.297240+0.002347\tcv-train-error:0.279489+0.000717\n",
      "[477]\tcv-test-error:0.297165+0.002361\tcv-train-error:0.279413+0.000736\n",
      "[478]\tcv-test-error:0.297184+0.002418\tcv-train-error:0.279390+0.000741\n",
      "[479]\tcv-test-error:0.297138+0.002279\tcv-train-error:0.279339+0.000738\n",
      "[480]\tcv-test-error:0.297165+0.002219\tcv-train-error:0.279288+0.000732\n",
      "[481]\tcv-test-error:0.297212+0.002248\tcv-train-error:0.279256+0.000709\n",
      "[482]\tcv-test-error:0.297175+0.002252\tcv-train-error:0.279230+0.000759\n",
      "[483]\tcv-test-error:0.297174+0.002173\tcv-train-error:0.279184+0.000749\n",
      "[484]\tcv-test-error:0.297147+0.002185\tcv-train-error:0.279124+0.000746\n",
      "[485]\tcv-test-error:0.297110+0.002286\tcv-train-error:0.279066+0.000743\n",
      "[486]\tcv-test-error:0.297175+0.002180\tcv-train-error:0.279006+0.000779\n",
      "[487]\tcv-test-error:0.297175+0.002186\tcv-train-error:0.278971+0.000743\n",
      "[488]\tcv-test-error:0.297129+0.002251\tcv-train-error:0.278953+0.000711\n",
      "[489]\tcv-test-error:0.297017+0.002237\tcv-train-error:0.278948+0.000721\n",
      "[490]\tcv-test-error:0.297110+0.002222\tcv-train-error:0.278895+0.000767\n",
      "[491]\tcv-test-error:0.297110+0.002238\tcv-train-error:0.278830+0.000831\n",
      "[492]\tcv-test-error:0.297091+0.002185\tcv-train-error:0.278788+0.000811\n",
      "[493]\tcv-test-error:0.297045+0.002277\tcv-train-error:0.278717+0.000860\n",
      "[494]\tcv-test-error:0.296943+0.002232\tcv-train-error:0.278659+0.000810\n",
      "[495]\tcv-test-error:0.296943+0.002357\tcv-train-error:0.278594+0.000814\n",
      "[496]\tcv-test-error:0.296990+0.002345\tcv-train-error:0.278532+0.000836\n",
      "[497]\tcv-test-error:0.296906+0.002295\tcv-train-error:0.278557+0.000865\n",
      "[498]\tcv-test-error:0.296897+0.002282\tcv-train-error:0.278534+0.000896\n",
      "[499]\tcv-test-error:0.296851+0.002297\tcv-train-error:0.278495+0.000887\n",
      "[500]\tcv-test-error:0.296768+0.002340\tcv-train-error:0.278423+0.000847\n",
      "[501]\tcv-test-error:0.296730+0.002334\tcv-train-error:0.278386+0.000846\n",
      "[502]\tcv-test-error:0.296832+0.002342\tcv-train-error:0.278421+0.000790\n",
      "[503]\tcv-test-error:0.296795+0.002305\tcv-train-error:0.278389+0.000824\n",
      "[504]\tcv-test-error:0.296934+0.002267\tcv-train-error:0.278372+0.000841\n",
      "[505]\tcv-test-error:0.296980+0.002303\tcv-train-error:0.278354+0.000875\n",
      "[506]\tcv-test-error:0.296971+0.002338\tcv-train-error:0.278328+0.000844\n",
      "[507]\tcv-test-error:0.296888+0.002308\tcv-train-error:0.278338+0.000867\n",
      "[508]\tcv-test-error:0.296897+0.002328\tcv-train-error:0.278277+0.000864\n",
      "[509]\tcv-test-error:0.296916+0.002355\tcv-train-error:0.278203+0.000847\n",
      "[510]\tcv-test-error:0.296943+0.002339\tcv-train-error:0.278185+0.000879\n",
      "[511]\tcv-test-error:0.296943+0.002339\tcv-train-error:0.278116+0.000943\n",
      "[512]\tcv-test-error:0.296925+0.002367\tcv-train-error:0.278118+0.000929\n",
      "[513]\tcv-test-error:0.296860+0.002456\tcv-train-error:0.278060+0.000965\n",
      "[514]\tcv-test-error:0.296740+0.002408\tcv-train-error:0.278058+0.000945\n",
      "[515]\tcv-test-error:0.296805+0.002410\tcv-train-error:0.278021+0.000939\n",
      "[516]\tcv-test-error:0.296777+0.002363\tcv-train-error:0.277998+0.000908\n",
      "[517]\tcv-test-error:0.296888+0.002506\tcv-train-error:0.277933+0.000908\n",
      "[518]\tcv-test-error:0.296897+0.002501\tcv-train-error:0.277929+0.000932\n",
      "[519]\tcv-test-error:0.296841+0.002610\tcv-train-error:0.277875+0.000938\n",
      "[520]\tcv-test-error:0.296786+0.002616\tcv-train-error:0.277815+0.000923\n",
      "[521]\tcv-test-error:0.296777+0.002552\tcv-train-error:0.277718+0.000905\n",
      "[522]\tcv-test-error:0.296657+0.002539\tcv-train-error:0.277700+0.000963\n",
      "[523]\tcv-test-error:0.296694+0.002566\tcv-train-error:0.277640+0.001025\n",
      "[524]\tcv-test-error:0.296657+0.002492\tcv-train-error:0.277595+0.001044\n",
      "[525]\tcv-test-error:0.296703+0.002429\tcv-train-error:0.277567+0.001046\n",
      "[526]\tcv-test-error:0.296721+0.002537\tcv-train-error:0.277519+0.000994\n",
      "[527]\tcv-test-error:0.296712+0.002545\tcv-train-error:0.277480+0.000983\n",
      "[528]\tcv-test-error:0.296823+0.002496\tcv-train-error:0.277422+0.000958\n",
      "[529]\tcv-test-error:0.296768+0.002508\tcv-train-error:0.277415+0.000987\n",
      "[530]\tcv-test-error:0.296722+0.002511\tcv-train-error:0.277332+0.000956\n",
      "[531]\tcv-test-error:0.296804+0.002489\tcv-train-error:0.277290+0.000922\n",
      "[532]\tcv-test-error:0.296795+0.002429\tcv-train-error:0.277258+0.000936\n",
      "[533]\tcv-test-error:0.296629+0.002479\tcv-train-error:0.277216+0.000924\n",
      "[534]\tcv-test-error:0.296684+0.002476\tcv-train-error:0.277244+0.000926\n",
      "[535]\tcv-test-error:0.296648+0.002393\tcv-train-error:0.277230+0.000888\n",
      "[536]\tcv-test-error:0.296592+0.002332\tcv-train-error:0.277219+0.000872\n",
      "[537]\tcv-test-error:0.296601+0.002354\tcv-train-error:0.277165+0.000868\n",
      "[538]\tcv-test-error:0.296573+0.002295\tcv-train-error:0.277133+0.000916\n",
      "[539]\tcv-test-error:0.296592+0.002259\tcv-train-error:0.277068+0.000933\n",
      "[540]\tcv-test-error:0.296583+0.002232\tcv-train-error:0.277020+0.000901\n",
      "[541]\tcv-test-error:0.296629+0.002236\tcv-train-error:0.276994+0.000883\n",
      "[542]\tcv-test-error:0.296527+0.002230\tcv-train-error:0.276923+0.000891\n",
      "[543]\tcv-test-error:0.296583+0.002168\tcv-train-error:0.276925+0.000903\n",
      "[544]\tcv-test-error:0.296583+0.002201\tcv-train-error:0.276876+0.000922\n",
      "[545]\tcv-test-error:0.296499+0.002289\tcv-train-error:0.276860+0.000914\n",
      "[546]\tcv-test-error:0.296490+0.002297\tcv-train-error:0.276844+0.000889\n",
      "[547]\tcv-test-error:0.296472+0.002294\tcv-train-error:0.276823+0.000856\n",
      "[548]\tcv-test-error:0.296546+0.002244\tcv-train-error:0.276779+0.000859\n",
      "[549]\tcv-test-error:0.296500+0.002228\tcv-train-error:0.276758+0.000853\n",
      "[550]\tcv-test-error:0.296481+0.002174\tcv-train-error:0.276791+0.000843\n",
      "[551]\tcv-test-error:0.296425+0.002153\tcv-train-error:0.276724+0.000861\n",
      "[552]\tcv-test-error:0.296481+0.002175\tcv-train-error:0.276721+0.000843\n",
      "[553]\tcv-test-error:0.296416+0.002190\tcv-train-error:0.276629+0.000874\n",
      "[554]\tcv-test-error:0.296444+0.002150\tcv-train-error:0.276638+0.000829\n",
      "[555]\tcv-test-error:0.296435+0.002227\tcv-train-error:0.276613+0.000854\n",
      "[556]\tcv-test-error:0.296407+0.002234\tcv-train-error:0.276578+0.000916\n",
      "[557]\tcv-test-error:0.296416+0.002249\tcv-train-error:0.276509+0.000842\n",
      "[558]\tcv-test-error:0.296444+0.002233\tcv-train-error:0.276448+0.000839\n",
      "[559]\tcv-test-error:0.296444+0.002188\tcv-train-error:0.276393+0.000840\n",
      "[560]\tcv-test-error:0.296379+0.002268\tcv-train-error:0.276354+0.000870\n",
      "[561]\tcv-test-error:0.296398+0.002152\tcv-train-error:0.276345+0.000899\n",
      "[562]\tcv-test-error:0.296407+0.002100\tcv-train-error:0.276293+0.000913\n",
      "[563]\tcv-test-error:0.296416+0.002121\tcv-train-error:0.276270+0.000849\n",
      "[564]\tcv-test-error:0.296564+0.002103\tcv-train-error:0.276208+0.000874\n",
      "[565]\tcv-test-error:0.296555+0.002123\tcv-train-error:0.276183+0.000851\n",
      "[566]\tcv-test-error:0.296407+0.002147\tcv-train-error:0.276104+0.000862\n",
      "[567]\tcv-test-error:0.296398+0.002133\tcv-train-error:0.276092+0.000895\n",
      "[568]\tcv-test-error:0.296416+0.002103\tcv-train-error:0.276058+0.000909\n",
      "[569]\tcv-test-error:0.296416+0.002099\tcv-train-error:0.276037+0.000939\n",
      "[570]\tcv-test-error:0.296481+0.002119\tcv-train-error:0.276002+0.000938\n",
      "[571]\tcv-test-error:0.296499+0.002184\tcv-train-error:0.275965+0.000912\n",
      "[572]\tcv-test-error:0.296582+0.002174\tcv-train-error:0.275917+0.000942\n",
      "[573]\tcv-test-error:0.296555+0.002110\tcv-train-error:0.275873+0.000932\n",
      "[574]\tcv-test-error:0.296573+0.002174\tcv-train-error:0.275875+0.000934\n",
      "[575]\tcv-test-error:0.296573+0.002339\tcv-train-error:0.275843+0.000920\n",
      "[576]\tcv-test-error:0.296592+0.002236\tcv-train-error:0.275817+0.000906\n",
      "[577]\tcv-test-error:0.296518+0.002299\tcv-train-error:0.275769+0.000857\n",
      "[578]\tcv-test-error:0.296638+0.002275\tcv-train-error:0.275716+0.000858\n",
      "[579]\tcv-test-error:0.296638+0.002255\tcv-train-error:0.275695+0.000888\n",
      "[580]\tcv-test-error:0.296620+0.002219\tcv-train-error:0.275649+0.000888\n",
      "[581]\tcv-test-error:0.296518+0.002306\tcv-train-error:0.275561+0.000923\n",
      "[582]\tcv-test-error:0.296481+0.002218\tcv-train-error:0.275512+0.000942\n",
      "[583]\tcv-test-error:0.296499+0.002220\tcv-train-error:0.275473+0.000953\n",
      "[584]\tcv-test-error:0.296435+0.002235\tcv-train-error:0.275427+0.000958\n",
      "[585]\tcv-test-error:0.296425+0.002300\tcv-train-error:0.275427+0.000957\n",
      "[586]\tcv-test-error:0.296397+0.002328\tcv-train-error:0.275371+0.000955\n",
      "[587]\tcv-test-error:0.296379+0.002392\tcv-train-error:0.275334+0.000969\n",
      "[588]\tcv-test-error:0.296462+0.002348\tcv-train-error:0.275290+0.000964\n",
      "[589]\tcv-test-error:0.296518+0.002283\tcv-train-error:0.275276+0.000909\n",
      "[590]\tcv-test-error:0.296629+0.002214\tcv-train-error:0.275255+0.000946\n",
      "[591]\tcv-test-error:0.296629+0.002243\tcv-train-error:0.275232+0.000961\n",
      "[592]\tcv-test-error:0.296629+0.002174\tcv-train-error:0.275225+0.000954\n",
      "[593]\tcv-test-error:0.296656+0.002271\tcv-train-error:0.275170+0.000969\n",
      "[594]\tcv-test-error:0.296601+0.002201\tcv-train-error:0.275094+0.000930\n",
      "[595]\tcv-test-error:0.296564+0.002121\tcv-train-error:0.275064+0.000922\n",
      "[596]\tcv-test-error:0.296472+0.002102\tcv-train-error:0.275006+0.000910\n",
      "[597]\tcv-test-error:0.296518+0.002086\tcv-train-error:0.275013+0.000908\n",
      "[598]\tcv-test-error:0.296481+0.002109\tcv-train-error:0.274948+0.000881\n",
      "[599]\tcv-test-error:0.296388+0.002006\tcv-train-error:0.274874+0.000909\n",
      "[600]\tcv-test-error:0.296472+0.001943\tcv-train-error:0.274844+0.000941\n",
      "[601]\tcv-test-error:0.296536+0.001960\tcv-train-error:0.274835+0.000957\n",
      "[602]\tcv-test-error:0.296555+0.001987\tcv-train-error:0.274763+0.000912\n",
      "[603]\tcv-test-error:0.296555+0.001998\tcv-train-error:0.274735+0.000890\n",
      "[604]\tcv-test-error:0.296527+0.002066\tcv-train-error:0.274673+0.000902\n",
      "[605]\tcv-test-error:0.296573+0.002080\tcv-train-error:0.274622+0.000883\n",
      "[606]\tcv-test-error:0.296537+0.002147\tcv-train-error:0.274604+0.000812\n",
      "[607]\tcv-test-error:0.296527+0.002156\tcv-train-error:0.274617+0.000811\n",
      "[608]\tcv-test-error:0.296555+0.002056\tcv-train-error:0.274615+0.000832\n",
      "[609]\tcv-test-error:0.296527+0.001999\tcv-train-error:0.274580+0.000883\n",
      "[610]\tcv-test-error:0.296647+0.002042\tcv-train-error:0.274525+0.000872\n",
      "[611]\tcv-test-error:0.296499+0.002068\tcv-train-error:0.274451+0.000894\n",
      "[612]\tcv-test-error:0.296481+0.002013\tcv-train-error:0.274428+0.000854\n",
      "[613]\tcv-test-error:0.296518+0.002048\tcv-train-error:0.274384+0.000887\n",
      "[614]\tcv-test-error:0.296537+0.002054\tcv-train-error:0.274358+0.000884\n",
      "[615]\tcv-test-error:0.296592+0.002034\tcv-train-error:0.274298+0.000830\n",
      "[616]\tcv-test-error:0.296592+0.002111\tcv-train-error:0.274328+0.000787\n",
      "[617]\tcv-test-error:0.296573+0.002124\tcv-train-error:0.274298+0.000784\n",
      "[618]\tcv-test-error:0.296610+0.002177\tcv-train-error:0.274273+0.000791\n",
      "[619]\tcv-test-error:0.296509+0.002111\tcv-train-error:0.274227+0.000820\n",
      "[620]\tcv-test-error:0.296536+0.002027\tcv-train-error:0.274222+0.000786\n",
      "[621]\tcv-test-error:0.296472+0.001950\tcv-train-error:0.274210+0.000804\n",
      "[622]\tcv-test-error:0.296499+0.001956\tcv-train-error:0.274173+0.000779\n",
      "[623]\tcv-test-error:0.296546+0.002001\tcv-train-error:0.274136+0.000762\n",
      "[624]\tcv-test-error:0.296500+0.002026\tcv-train-error:0.274136+0.000792\n",
      "[625]\tcv-test-error:0.296564+0.002067\tcv-train-error:0.274122+0.000792\n",
      "[626]\tcv-test-error:0.296657+0.002142\tcv-train-error:0.274120+0.000816\n",
      "[627]\tcv-test-error:0.296638+0.002183\tcv-train-error:0.274120+0.000821\n",
      "[628]\tcv-test-error:0.296620+0.002158\tcv-train-error:0.274078+0.000861\n",
      "[629]\tcv-test-error:0.296610+0.002123\tcv-train-error:0.274016+0.000888\n",
      "[630]\tcv-test-error:0.296629+0.002188\tcv-train-error:0.273991+0.000879\n",
      "[631]\tcv-test-error:0.296610+0.002245\tcv-train-error:0.273922+0.000874\n",
      "[632]\tcv-test-error:0.296583+0.002225\tcv-train-error:0.273871+0.000883\n",
      "[633]\tcv-test-error:0.296564+0.002229\tcv-train-error:0.273826+0.000858\n",
      "[634]\tcv-test-error:0.296546+0.002252\tcv-train-error:0.273808+0.000842\n",
      "[635]\tcv-test-error:0.296453+0.002320\tcv-train-error:0.273743+0.000835\n",
      "[636]\tcv-test-error:0.296407+0.002309\tcv-train-error:0.273704+0.000834\n",
      "[637]\tcv-test-error:0.296407+0.002339\tcv-train-error:0.273637+0.000835\n",
      "[638]\tcv-test-error:0.296435+0.002313\tcv-train-error:0.273600+0.000812\n",
      "[639]\tcv-test-error:0.296453+0.002326\tcv-train-error:0.273565+0.000825\n",
      "[640]\tcv-test-error:0.296462+0.002357\tcv-train-error:0.273582+0.000835\n",
      "[641]\tcv-test-error:0.296370+0.002353\tcv-train-error:0.273510+0.000856\n",
      "[642]\tcv-test-error:0.296287+0.002278\tcv-train-error:0.273533+0.000868\n",
      "[643]\tcv-test-error:0.296268+0.002266\tcv-train-error:0.273501+0.000873\n",
      "[644]\tcv-test-error:0.296315+0.002225\tcv-train-error:0.273478+0.000895\n",
      "[645]\tcv-test-error:0.296388+0.002307\tcv-train-error:0.273445+0.000914\n",
      "[646]\tcv-test-error:0.296481+0.002307\tcv-train-error:0.273353+0.000885\n",
      "[647]\tcv-test-error:0.296397+0.002261\tcv-train-error:0.273344+0.000882\n",
      "[648]\tcv-test-error:0.296435+0.002309\tcv-train-error:0.273260+0.000860\n",
      "[649]\tcv-test-error:0.296407+0.002305\tcv-train-error:0.273251+0.000888\n",
      "[650]\tcv-test-error:0.296370+0.002279\tcv-train-error:0.273216+0.000891\n",
      "[651]\tcv-test-error:0.296388+0.002294\tcv-train-error:0.273195+0.000906\n",
      "[652]\tcv-test-error:0.296453+0.002281\tcv-train-error:0.273140+0.000873\n",
      "[653]\tcv-test-error:0.296462+0.002223\tcv-train-error:0.273156+0.000893\n",
      "[654]\tcv-test-error:0.296462+0.002255\tcv-train-error:0.273142+0.000919\n",
      "[655]\tcv-test-error:0.296564+0.002254\tcv-train-error:0.273107+0.000991\n",
      "[656]\tcv-test-error:0.296638+0.002344\tcv-train-error:0.273043+0.000946\n",
      "[657]\tcv-test-error:0.296675+0.002398\tcv-train-error:0.272992+0.000975\n",
      "[658]\tcv-test-error:0.296610+0.002316\tcv-train-error:0.272950+0.000978\n",
      "[659]\tcv-test-error:0.296564+0.002370\tcv-train-error:0.272920+0.000929\n",
      "[660]\tcv-test-error:0.296536+0.002379\tcv-train-error:0.272881+0.000962\n",
      "[661]\tcv-test-error:0.296546+0.002342\tcv-train-error:0.272879+0.000950\n",
      "[662]\tcv-test-error:0.296416+0.002366\tcv-train-error:0.272883+0.000991\n",
      "[663]\tcv-test-error:0.296416+0.002368\tcv-train-error:0.272835+0.000980\n",
      "[664]\tcv-test-error:0.296462+0.002330\tcv-train-error:0.272761+0.000958\n",
      "[665]\tcv-test-error:0.296536+0.002257\tcv-train-error:0.272777+0.000954\n",
      "[666]\tcv-test-error:0.296462+0.002257\tcv-train-error:0.272758+0.000987\n",
      "[667]\tcv-test-error:0.296370+0.002210\tcv-train-error:0.272744+0.001004\n",
      "[668]\tcv-test-error:0.296444+0.002176\tcv-train-error:0.272733+0.000997\n",
      "[669]\tcv-test-error:0.296462+0.002096\tcv-train-error:0.272708+0.000957\n",
      "[670]\tcv-test-error:0.296407+0.002060\tcv-train-error:0.272673+0.000939\n",
      "[671]\tcv-test-error:0.296324+0.002081\tcv-train-error:0.272603+0.000932\n",
      "[672]\tcv-test-error:0.296314+0.002023\tcv-train-error:0.272571+0.000901\n",
      "[673]\tcv-test-error:0.296462+0.002020\tcv-train-error:0.272532+0.000942\n",
      "[674]\tcv-test-error:0.296537+0.002053\tcv-train-error:0.272513+0.000951\n",
      "[675]\tcv-test-error:0.296500+0.002036\tcv-train-error:0.272481+0.000994\n",
      "[676]\tcv-test-error:0.296453+0.002079\tcv-train-error:0.272483+0.001005\n",
      "[677]\tcv-test-error:0.296490+0.002106\tcv-train-error:0.272451+0.001007\n",
      "[678]\tcv-test-error:0.296509+0.002064\tcv-train-error:0.272430+0.000968\n",
      "[679]\tcv-test-error:0.296444+0.002032\tcv-train-error:0.272363+0.000950\n",
      "[680]\tcv-test-error:0.296407+0.002028\tcv-train-error:0.272317+0.000974\n",
      "[681]\tcv-test-error:0.296416+0.002018\tcv-train-error:0.272303+0.000974\n",
      "[682]\tcv-test-error:0.296453+0.001940\tcv-train-error:0.272266+0.001013\n",
      "[683]\tcv-test-error:0.296527+0.001959\tcv-train-error:0.272261+0.001000\n",
      "[684]\tcv-test-error:0.296481+0.001980\tcv-train-error:0.272210+0.000978\n",
      "[685]\tcv-test-error:0.296462+0.001885\tcv-train-error:0.272194+0.000969\n",
      "[686]\tcv-test-error:0.296481+0.001864\tcv-train-error:0.272148+0.000973\n",
      "[687]\tcv-test-error:0.296462+0.001842\tcv-train-error:0.272120+0.000991\n",
      "[688]\tcv-test-error:0.296416+0.001895\tcv-train-error:0.272081+0.000974\n",
      "[689]\tcv-test-error:0.296398+0.001883\tcv-train-error:0.272032+0.000988\n",
      "[690]\tcv-test-error:0.296472+0.001876\tcv-train-error:0.272035+0.000957\n",
      "[691]\tcv-test-error:0.296462+0.001915\tcv-train-error:0.272007+0.000958\n",
      "[692]\tcv-test-error:0.296425+0.001961\tcv-train-error:0.271935+0.000962\n",
      "[693]\tcv-test-error:0.296490+0.002006\tcv-train-error:0.271986+0.000955\n",
      "[694]\tcv-test-error:0.296407+0.001955\tcv-train-error:0.271975+0.000928\n",
      "[695]\tcv-test-error:0.296462+0.001956\tcv-train-error:0.271940+0.000948\n",
      "[696]\tcv-test-error:0.296472+0.001912\tcv-train-error:0.271910+0.000942\n",
      "[697]\tcv-test-error:0.296472+0.001907\tcv-train-error:0.271854+0.000938\n"
     ]
    }
   ],
   "source": [
    "# You can probably get better accuracy with rounds > 1000. \n",
    "bst = xgb.cv(params, dtrain, num_boost_round=3000,nfold=5L)"
   ]
  },
  {
   "cell_type": "code",
   "execution_count": 82,
   "metadata": {
    "collapsed": true
   },
   "outputs": [],
   "source": [
    "bst_train = xgb.train(params, dtrain, num_boost_round=3000)"
   ]
  },
  {
   "cell_type": "code",
   "execution_count": 83,
   "metadata": {
    "collapsed": true
   },
   "outputs": [],
   "source": [
    "p_test = bst_train.predict(dtest)"
   ]
  },
  {
   "cell_type": "code",
   "execution_count": 84,
   "metadata": {
    "collapsed": false
   },
   "outputs": [],
   "source": [
    "sub = pd.DataFrame()\n",
    "\n",
    "test1 = pd.read_csv('/home/dar/challenge/Machine_Learning/datafiles/test.csv')\n",
    "sub['project_id'] = test1['project_id']\n",
    "sub['final_status'] = p_test"
   ]
  },
  {
   "cell_type": "code",
   "execution_count": 85,
   "metadata": {
    "collapsed": false
   },
   "outputs": [],
   "source": [
    "sub['final_status'] = [1 if x > 0.5 else 0 for x in sub['final_status']]"
   ]
  },
  {
   "cell_type": "code",
   "execution_count": 86,
   "metadata": {
    "collapsed": true
   },
   "outputs": [],
   "source": [
    "sub.to_csv(\"xgb3.csv\",index=False) #0.70"
   ]
  },
  {
   "cell_type": "code",
   "execution_count": null,
   "metadata": {
    "collapsed": true
   },
   "outputs": [],
   "source": []
  }
 ],
 "metadata": {
  "anaconda-cloud": {},
  "kernelspec": {
   "display_name": "Python [default]",
   "language": "python",
   "name": "python2"
  },
  "language_info": {
   "codemirror_mode": {
    "name": "ipython",
    "version": 2
   },
   "file_extension": ".py",
   "mimetype": "text/x-python",
   "name": "python",
   "nbconvert_exporter": "python",
   "pygments_lexer": "ipython2",
   "version": "2.7.13"
  }
 },
 "nbformat": 4,
 "nbformat_minor": 2
}
