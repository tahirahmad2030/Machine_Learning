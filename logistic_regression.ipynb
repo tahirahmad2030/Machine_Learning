{
 "cells": [
  {
   "cell_type": "code",
   "execution_count": 41,
   "metadata": {
    "collapsed": false
   },
   "outputs": [
    {
     "name": "stdout",
     "output_type": "stream",
     "text": [
      "W: [ 3.21992874] b: [ 2.17246127] loss: 0.00472247\n",
      "1.11857700348\n",
      "[ 1.]\n"
     ]
    }
   ],
   "source": [
    "# Logistic regression using Tensorflow using cross entropy loss/cost function \n",
    "from timeit import default_timer\n",
    "start = default_timer()\n",
    "import numpy as np\n",
    "import tensorflow as tf\n",
    "\n",
    "# Model parameters\n",
    "W = tf.Variable([.3], dtype=tf.float32)\n",
    "b = tf.Variable([-.3], dtype=tf.float32)\n",
    "# Model input and output\n",
    "x = tf.placeholder(tf.float32)\n",
    "model = tf.nn.sigmoid(W*x + b) # SoftmaxW * x + b\n",
    "y = tf.placeholder(tf.float32)\n",
    "# loss\n",
    "loss = -tf.reduce_sum(y*tf.log(model))#tf.reduce_sum(tf.square(linear_model - y)) # sum of the squares\n",
    "# optimizer\n",
    "optimizer = tf.train.GradientDescentOptimizer(0.1)\n",
    "train = optimizer.minimize(loss)\n",
    "# training data\n",
    "x_train = [-1,1,2,-2]\n",
    "y_train = [0,1,1,0]\n",
    "#y_train = np.reshape(y_train, (2,2))\n",
    "# training loop\n",
    "init = tf.global_variables_initializer()\n",
    "sess = tf.Session()\n",
    "sess.run(init) # reset values to wrong\n",
    "for i in range(1000):\n",
    "    #print(sess.run(loss ,{x:x_train, y:y_train}))\n",
    "    sess.run(train, {x:x_train, y:y_train})\n",
    "\n",
    "# evaluate training accuracy\n",
    "curr_W, curr_b, curr_loss = sess.run([W, b, loss], {x:x_train, y:y_train})\n",
    "print(\"W: %s b: %s loss: %s\"%(curr_W, curr_b, curr_loss))\n",
    "\n",
    "duration = default_timer() - start\n",
    "print(duration)\n",
    "\n",
    "pred_y = sess.run(model, feed_dict={x: 8})\n",
    "print pred_y"
   ]
  },
  {
   "cell_type": "code",
   "execution_count": null,
   "metadata": {
    "collapsed": true
   },
   "outputs": [],
   "source": []
  }
 ],
 "metadata": {
  "anaconda-cloud": {},
  "kernelspec": {
   "display_name": "Python [conda root]",
   "language": "python",
   "name": "conda-root-py"
  },
  "language_info": {
   "codemirror_mode": {
    "name": "ipython",
    "version": 2
   },
   "file_extension": ".py",
   "mimetype": "text/x-python",
   "name": "python",
   "nbconvert_exporter": "python",
   "pygments_lexer": "ipython2",
   "version": "2.7.13"
  }
 },
 "nbformat": 4,
 "nbformat_minor": 1
}
